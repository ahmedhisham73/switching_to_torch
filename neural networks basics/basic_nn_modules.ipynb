{
 "cells": [
  {
   "cell_type": "code",
   "execution_count": 1,
   "id": "76ed535f",
   "metadata": {},
   "outputs": [],
   "source": [
    "#PyTorch: nn\n",
    "#Computational graphs and autograd are a very powerful paradigm for defining complex operators and automatically taking derivatives; however for large neural networks raw autograd can be a bit too low-level.\n",
    "\n",
    "#When building neural networks we frequently think of arranging the computation into layers, some of which have learnable parameters which will be optimized during learning."
   ]
  },
  {
   "cell_type": "code",
   "execution_count": 2,
   "id": "c5f26e69",
   "metadata": {},
   "outputs": [],
   "source": [
    "#A Module receives input Tensors and computes output Tensors,\n",
    "#but may also hold internal state such as Tensors containing learnable parameters.\n",
    "#The nn package also defines a set of useful loss functions that are commonly used when training neural networks."
   ]
  },
  {
   "cell_type": "code",
   "execution_count": 3,
   "id": "addbe5df",
   "metadata": {},
   "outputs": [],
   "source": [
    "import torch \n",
    "import math"
   ]
  },
  {
   "cell_type": "code",
   "execution_count": 4,
   "id": "e5a45b44",
   "metadata": {},
   "outputs": [],
   "source": [
    "# Create Tensors to hold input and outputs.\n",
    "x = torch.linspace(-math.pi, math.pi, 2000)\n",
    "y = torch.sin(x)"
   ]
  },
  {
   "cell_type": "code",
   "execution_count": 5,
   "id": "f83f140e",
   "metadata": {},
   "outputs": [],
   "source": [
    "# For this example, the output y is a linear function of (x, x^2, x^3), so\n",
    "# we can consider it as a linear layer neural network. Let's prepare the\n",
    "# tensor (x, x^2, x^3)."
   ]
  },
  {
   "cell_type": "code",
   "execution_count": 6,
   "id": "a2e2d589",
   "metadata": {},
   "outputs": [],
   "source": [
    "p = torch.tensor([1, 2, 3])\n",
    "xx = x.unsqueeze(-1).pow(p)"
   ]
  },
  {
   "cell_type": "code",
   "execution_count": 7,
   "id": "52dfad12",
   "metadata": {},
   "outputs": [],
   "source": [
    "#x.unsqueeze(-1) has shape (2000, 1), and p has shape(3,), \n",
    "#for this case, broadcasting semantics will apply to obtain a tensor\n",
    "# of shape (2000, 3) "
   ]
  },
  {
   "cell_type": "code",
   "execution_count": 8,
   "id": "2cc8ff53",
   "metadata": {},
   "outputs": [],
   "source": [
    "#Use the nn package to define our model as a sequence of layers. nn.Sequential\n",
    "#is a Module which contains other Modules, and applies them in sequence to\n",
    "#produce its output. The Linear Module computes output from input using a\n",
    "#linear function, and holds internal Tensors for its weight and bias.\n",
    "#The Flatten layer flatens the output of the linear layer to a 1D tensor,to match the shape of `y`."
   ]
  },
  {
   "cell_type": "code",
   "execution_count": 9,
   "id": "f8b437ed",
   "metadata": {},
   "outputs": [],
   "source": [
    "model=torch.nn.Sequential(\n",
    "torch.nn.Linear(3,1),\n",
    "    torch.nn.Flatten(0,1)\n",
    ")"
   ]
  },
  {
   "cell_type": "code",
   "execution_count": 10,
   "id": "3e593e5f",
   "metadata": {},
   "outputs": [],
   "source": [
    "# The nn package also contains definitions of popular loss functions; in this\n",
    "# case we will use Mean Squared Error (MSE) as our loss function."
   ]
  },
  {
   "cell_type": "code",
   "execution_count": 12,
   "id": "859255fe",
   "metadata": {},
   "outputs": [],
   "source": [
    "loss_fn=torch.nn.MSELoss(reduction='sum')"
   ]
  },
  {
   "cell_type": "code",
   "execution_count": 13,
   "id": "f6164d77",
   "metadata": {},
   "outputs": [],
   "source": [
    "#define my learning rate \n",
    "learning_rate = 1e-6"
   ]
  },
  {
   "cell_type": "code",
   "execution_count": 15,
   "id": "74adfd12",
   "metadata": {},
   "outputs": [
    {
     "name": "stdout",
     "output_type": "stream",
     "text": [
      "99 1266.07421875\n",
      "199 844.2590942382812\n",
      "299 564.1411743164062\n",
      "399 378.0689392089844\n",
      "499 254.4310760498047\n",
      "599 172.25282287597656\n",
      "699 117.61331176757812\n",
      "799 81.27111053466797\n",
      "899 57.090110778808594\n",
      "999 40.994300842285156\n",
      "1099 30.27586555480957\n",
      "1199 23.135208129882812\n",
      "1299 18.375917434692383\n",
      "1399 15.202280044555664\n",
      "1499 13.084905624389648\n",
      "1599 11.671426773071289\n",
      "1699 10.7273530960083\n",
      "1799 10.09642219543457\n",
      "1899 9.674477577209473\n",
      "1999 9.392143249511719\n",
      "Result: y = 0.011751042678952217 + 0.8360802531242371 x + -0.002027250826358795 x^2 + -0.0903915986418724 x^3\n"
     ]
    }
   ],
   "source": [
    "for t in range (2000):\n",
    "    \n",
    "    \n",
    "    \n",
    "    #forward pass\n",
    "    y_pred=model(xx)\n",
    "    loss=loss_fn(y_pred,y)\n",
    "    if t%100==99:\n",
    "        print(t,loss.item())\n",
    "        \n",
    "    # Zero the gradients before running the backward pass.    \n",
    "    model.zero_grad()\n",
    "     # Backward pass: compute gradient of the loss with respect to all the learnable parameters\n",
    "        #Internally, the parameters of each Module are stored\n",
    "    # in Tensors with requires_grad=True, so this call will compute gradients for\n",
    "    # all learnable parameters in the model.\n",
    "    loss.backward()\n",
    "     # Update the weights using gradient descent. Each parameter is a Tensor, so\n",
    "    # we can access its gradients like we did before.\n",
    "    with torch.no_grad():\n",
    "        for param in model.parameters():\n",
    "            param-= learning_rate * param.grad\n",
    "# You can access the first layer of `model` like accessing the first item of a list\n",
    "linear_layer = model[0]\n",
    "\n",
    "# For linear layer, its parameters are stored as `weight` and `bias`.\n",
    "print(f'Result: y = {linear_layer.bias.item()} + {linear_layer.weight[:, 0].item()} x + {linear_layer.weight[:, 1].item()} x^2 + {linear_layer.weight[:, 2].item()} x^3')\n",
    "        \n",
    "       \n",
    "         \n",
    "    \n",
    "        "
   ]
  },
  {
   "cell_type": "code",
   "execution_count": 16,
   "id": "65940c68",
   "metadata": {},
   "outputs": [],
   "source": [
    "#PyTorch: optim\n",
    "#Up to this point we have updated the weights of our models by manually mutating the Tensors holding learnable parameters with torch.no_grad().\n",
    "#This is not a huge burden for simple optimization algorithms like stochastic gradient descent, \n",
    "#but in practice we often train neural networks using more sophisticated optimizers like AdaGrad, RMSProp, Adam, etc."
   ]
  },
  {
   "cell_type": "code",
   "execution_count": 17,
   "id": "b315ca13",
   "metadata": {},
   "outputs": [],
   "source": [
    "#The optim package in PyTorch abstracts the idea of an optimization algorithm \n",
    "#and provides implementations of commonly used optimization algorithms."
   ]
  },
  {
   "cell_type": "code",
   "execution_count": 18,
   "id": "efe758b2",
   "metadata": {},
   "outputs": [],
   "source": [
    "import torch \n",
    "import time\n",
    "# Create Tensors to hold input and outputs.\n",
    "x = torch.linspace(-math.pi, math.pi, 2000)\n",
    "y = torch.sin(x)\n",
    "dtype = torch.float \n",
    "device= torch.device('cpu')"
   ]
  },
  {
   "cell_type": "code",
   "execution_count": 19,
   "id": "e1ec93fc",
   "metadata": {},
   "outputs": [],
   "source": [
    "#prepare holders for the inputs\n",
    "#Prepare the input tensor (x, x^2, x^3)"
   ]
  },
  {
   "cell_type": "code",
   "execution_count": 20,
   "id": "7ddcf133",
   "metadata": {},
   "outputs": [],
   "source": [
    "p = torch.tensor([1, 2, 3])\n",
    "xx=x.unsqueeze(-1).pow(p)"
   ]
  },
  {
   "cell_type": "code",
   "execution_count": 23,
   "id": "fd4aeb3e",
   "metadata": {},
   "outputs": [],
   "source": [
    "#define sequential model \n",
    "model= torch.nn.Sequential (\n",
    "torch.nn.Linear(3,1),\n",
    "    torch.nn.Flatten(0,1)\n",
    "\n",
    ")\n",
    "\n",
    "loss_fun=torch.nn.MSELoss(reduction='sum')"
   ]
  },
  {
   "cell_type": "code",
   "execution_count": null,
   "id": "dff83cc7",
   "metadata": {},
   "outputs": [],
   "source": []
  },
  {
   "cell_type": "code",
   "execution_count": 24,
   "id": "4137cd6e",
   "metadata": {},
   "outputs": [],
   "source": [
    "learning_rate=1e-3"
   ]
  },
  {
   "cell_type": "code",
   "execution_count": 27,
   "id": "f8702a40",
   "metadata": {},
   "outputs": [],
   "source": [
    "optimizer=torch.optim.RMSprop(model.parameters(), lr=learning_rate)"
   ]
  },
  {
   "cell_type": "code",
   "execution_count": 28,
   "id": "acb2e7f5",
   "metadata": {},
   "outputs": [
    {
     "name": "stdout",
     "output_type": "stream",
     "text": [
      "99 31576.798828125\n",
      "199 15276.3896484375\n",
      "299 6843.498046875\n",
      "399 2829.45361328125\n",
      "499 1379.159912109375\n",
      "599 1016.84033203125\n",
      "699 870.7041015625\n",
      "799 728.7461547851562\n",
      "899 587.0197143554688\n",
      "999 456.8905944824219\n",
      "1099 344.12969970703125\n",
      "1199 249.4978790283203\n",
      "1299 172.4946746826172\n",
      "1399 112.39306640625\n",
      "1499 68.08667755126953\n",
      "1599 38.06401443481445\n",
      "1699 20.32501792907715\n",
      "1799 11.953274726867676\n",
      "1899 9.360214233398438\n",
      "1999 8.91268253326416\n",
      "Result: y = 0.0005779920611530542 + 0.8522453904151917 x + 0.0005821323720738292 x^2 + -0.09227350354194641 x^3\n"
     ]
    }
   ],
   "source": [
    "for t in range (2000):\n",
    "    #compute forward pass\n",
    "    y_pred=model(xx)\n",
    "    loss=loss_fun(y_pred,y)\n",
    "    if t%100==99:\n",
    "        print(t,loss.item())\n",
    "    \n",
    "    \n",
    "    \n",
    "    #backward pass\n",
    "    #set optimzer into zero grad \n",
    "    optimizer.zero_grad()\n",
    "    loss.backward()\n",
    "    # Calling the step function on an Optimizer makes an update to its\n",
    "    # parameters\n",
    "    \n",
    "    optimizer.step()\n",
    "linear_layer=model[0]\n",
    "print(f'Result: y = {linear_layer.bias.item()} + {linear_layer.weight[:, 0].item()} x + {linear_layer.weight[:, 1].item()} x^2 + {linear_layer.weight[:, 2].item()} x^3')"
   ]
  },
  {
   "cell_type": "code",
   "execution_count": null,
   "id": "6fecc653",
   "metadata": {},
   "outputs": [],
   "source": []
  }
 ],
 "metadata": {
  "kernelspec": {
   "display_name": "Python 3.7 (pytorch)",
   "language": "python",
   "name": "pytorch"
  },
  "language_info": {
   "codemirror_mode": {
    "name": "ipython",
    "version": 3
   },
   "file_extension": ".py",
   "mimetype": "text/x-python",
   "name": "python",
   "nbconvert_exporter": "python",
   "pygments_lexer": "ipython3",
   "version": "3.7.11"
  }
 },
 "nbformat": 4,
 "nbformat_minor": 5
}
